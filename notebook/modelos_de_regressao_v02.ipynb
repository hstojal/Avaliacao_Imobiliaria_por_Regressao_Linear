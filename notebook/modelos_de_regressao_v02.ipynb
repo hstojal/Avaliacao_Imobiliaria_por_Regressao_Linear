{
 "cells": [
  {
   "cell_type": "markdown",
   "metadata": {},
   "source": [
    "### Importações"
   ]
  },
  {
   "cell_type": "code",
   "execution_count": 1,
   "metadata": {},
   "outputs": [],
   "source": [
    "import pandas as pd\n",
    "import numpy as np\n",
    "import statsmodels.api as sm\n",
    "import matplotlib.pyplot as plt\n",
    "plt.style.use('seaborn')\n",
    "%matplotlib inline"
   ]
  },
  {
   "cell_type": "markdown",
   "metadata": {},
   "source": [
    "### Carregamento dos Dados da Amostra"
   ]
  },
  {
   "cell_type": "code",
   "execution_count": 2,
   "metadata": {},
   "outputs": [],
   "source": [
    "df = pd.read_csv(\"../dados/amostra.csv\")"
   ]
  },
  {
   "cell_type": "code",
   "execution_count": 3,
   "metadata": {},
   "outputs": [
    {
     "data": {
      "text/html": [
       "<div>\n",
       "<style scoped>\n",
       "    .dataframe tbody tr th:only-of-type {\n",
       "        vertical-align: middle;\n",
       "    }\n",
       "\n",
       "    .dataframe tbody tr th {\n",
       "        vertical-align: top;\n",
       "    }\n",
       "\n",
       "    .dataframe thead th {\n",
       "        text-align: right;\n",
       "    }\n",
       "</style>\n",
       "<table border=\"1\" class=\"dataframe\">\n",
       "  <thead>\n",
       "    <tr style=\"text-align: right;\">\n",
       "      <th></th>\n",
       "      <th>Endereço</th>\n",
       "      <th>Bairro</th>\n",
       "      <th>VT</th>\n",
       "      <th>Área</th>\n",
       "      <th>Vap</th>\n",
       "      <th>Quartos</th>\n",
       "      <th>Banheiros</th>\n",
       "      <th>Vagas</th>\n",
       "      <th>Alto PC</th>\n",
       "      <th>Baixo PC</th>\n",
       "      <th>Varanda</th>\n",
       "      <th>Fundos</th>\n",
       "      <th>Dependências</th>\n",
       "      <th>Condomínio</th>\n",
       "      <th>Pavimento</th>\n",
       "      <th>VU</th>\n",
       "      <th>Fonte</th>\n",
       "      <th>Imobiliária</th>\n",
       "      <th>Atualizado</th>\n",
       "      <th>Link</th>\n",
       "    </tr>\n",
       "  </thead>\n",
       "  <tbody>\n",
       "    <tr>\n",
       "      <th>0</th>\n",
       "      <td>Rua Ererê</td>\n",
       "      <td>Cosme Velho</td>\n",
       "      <td>1000000</td>\n",
       "      <td>120</td>\n",
       "      <td>3771.38</td>\n",
       "      <td>3</td>\n",
       "      <td>3</td>\n",
       "      <td>3</td>\n",
       "      <td>0</td>\n",
       "      <td>1</td>\n",
       "      <td>1</td>\n",
       "      <td>1</td>\n",
       "      <td>1</td>\n",
       "      <td>1308</td>\n",
       "      <td>NaN</td>\n",
       "      <td>8333.333333</td>\n",
       "      <td>Zap</td>\n",
       "      <td>Kasanova</td>\n",
       "      <td>01/11/2021</td>\n",
       "      <td>https://www.zapimoveis.com.br/imovel/venda-apa...</td>\n",
       "    </tr>\n",
       "    <tr>\n",
       "      <th>1</th>\n",
       "      <td>Rua Filinto de Almeida</td>\n",
       "      <td>Cosme Velho</td>\n",
       "      <td>700000</td>\n",
       "      <td>113</td>\n",
       "      <td>3295.39</td>\n",
       "      <td>2</td>\n",
       "      <td>2</td>\n",
       "      <td>0</td>\n",
       "      <td>0</td>\n",
       "      <td>1</td>\n",
       "      <td>1</td>\n",
       "      <td>1</td>\n",
       "      <td>1</td>\n",
       "      <td>1044</td>\n",
       "      <td>1.0</td>\n",
       "      <td>6194.690265</td>\n",
       "      <td>Zap</td>\n",
       "      <td>OrlaRio</td>\n",
       "      <td>01/11/2021</td>\n",
       "      <td>https://www.zapimoveis.com.br/imovel/venda-apa...</td>\n",
       "    </tr>\n",
       "    <tr>\n",
       "      <th>2</th>\n",
       "      <td>Praça São Judas Tadeu, 6</td>\n",
       "      <td>Cosme Velho</td>\n",
       "      <td>965000</td>\n",
       "      <td>129</td>\n",
       "      <td>3771.38</td>\n",
       "      <td>3</td>\n",
       "      <td>4</td>\n",
       "      <td>2</td>\n",
       "      <td>0</td>\n",
       "      <td>1</td>\n",
       "      <td>1</td>\n",
       "      <td>1</td>\n",
       "      <td>1</td>\n",
       "      <td>1640</td>\n",
       "      <td>NaN</td>\n",
       "      <td>7480.620155</td>\n",
       "      <td>Zap</td>\n",
       "      <td>João Correa</td>\n",
       "      <td>01/11/2021</td>\n",
       "      <td>https://www.zapimoveis.com.br/imovel/venda-apa...</td>\n",
       "    </tr>\n",
       "    <tr>\n",
       "      <th>3</th>\n",
       "      <td>Rua Cosme Velho, 315</td>\n",
       "      <td>Cosme Velho</td>\n",
       "      <td>880000</td>\n",
       "      <td>87</td>\n",
       "      <td>3795.13</td>\n",
       "      <td>2</td>\n",
       "      <td>2</td>\n",
       "      <td>1</td>\n",
       "      <td>0</td>\n",
       "      <td>0</td>\n",
       "      <td>0</td>\n",
       "      <td>0</td>\n",
       "      <td>1</td>\n",
       "      <td>900</td>\n",
       "      <td>NaN</td>\n",
       "      <td>10114.942529</td>\n",
       "      <td>Zap</td>\n",
       "      <td>Calleri</td>\n",
       "      <td>NaN</td>\n",
       "      <td>https://www.zapimoveis.com.br/imovel/venda-apa...</td>\n",
       "    </tr>\n",
       "    <tr>\n",
       "      <th>4</th>\n",
       "      <td>Rua Marechal Pires Ferreira</td>\n",
       "      <td>Cosme Velho</td>\n",
       "      <td>1870000</td>\n",
       "      <td>152</td>\n",
       "      <td>3980.89</td>\n",
       "      <td>4</td>\n",
       "      <td>3</td>\n",
       "      <td>2</td>\n",
       "      <td>1</td>\n",
       "      <td>0</td>\n",
       "      <td>1</td>\n",
       "      <td>1</td>\n",
       "      <td>1</td>\n",
       "      <td>1826</td>\n",
       "      <td>NaN</td>\n",
       "      <td>12302.631579</td>\n",
       "      <td>Zap</td>\n",
       "      <td>Indik</td>\n",
       "      <td>NaN</td>\n",
       "      <td>https://www.zapimoveis.com.br/imovel/venda-apa...</td>\n",
       "    </tr>\n",
       "  </tbody>\n",
       "</table>\n",
       "</div>"
      ],
      "text/plain": [
       "                      Endereço       Bairro       VT  Área      Vap  Quartos  \\\n",
       "0                    Rua Ererê  Cosme Velho  1000000   120  3771.38        3   \n",
       "1       Rua Filinto de Almeida  Cosme Velho   700000   113  3295.39        2   \n",
       "2     Praça São Judas Tadeu, 6  Cosme Velho   965000   129  3771.38        3   \n",
       "3         Rua Cosme Velho, 315  Cosme Velho   880000    87  3795.13        2   \n",
       "4  Rua Marechal Pires Ferreira  Cosme Velho  1870000   152  3980.89        4   \n",
       "\n",
       "   Banheiros  Vagas  Alto PC  Baixo PC  Varanda  Fundos  Dependências  \\\n",
       "0          3      3        0         1        1       1             1   \n",
       "1          2      0        0         1        1       1             1   \n",
       "2          4      2        0         1        1       1             1   \n",
       "3          2      1        0         0        0       0             1   \n",
       "4          3      2        1         0        1       1             1   \n",
       "\n",
       "   Condomínio  Pavimento            VU Fonte  Imobiliária  Atualizado  \\\n",
       "0        1308        NaN   8333.333333   Zap     Kasanova  01/11/2021   \n",
       "1        1044        1.0   6194.690265   Zap      OrlaRio  01/11/2021   \n",
       "2        1640        NaN   7480.620155   Zap  João Correa  01/11/2021   \n",
       "3         900        NaN  10114.942529   Zap      Calleri         NaN   \n",
       "4        1826        NaN  12302.631579   Zap        Indik         NaN   \n",
       "\n",
       "                                                Link  \n",
       "0  https://www.zapimoveis.com.br/imovel/venda-apa...  \n",
       "1  https://www.zapimoveis.com.br/imovel/venda-apa...  \n",
       "2  https://www.zapimoveis.com.br/imovel/venda-apa...  \n",
       "3  https://www.zapimoveis.com.br/imovel/venda-apa...  \n",
       "4  https://www.zapimoveis.com.br/imovel/venda-apa...  "
      ]
     },
     "execution_count": 3,
     "metadata": {},
     "output_type": "execute_result"
    }
   ],
   "source": [
    "df.head()"
   ]
  },
  {
   "cell_type": "markdown",
   "metadata": {},
   "source": [
    "### Atribuição das Variáveis Independentes (X) e Dependentes (y)"
   ]
  },
  {
   "cell_type": "code",
   "execution_count": 4,
   "metadata": {},
   "outputs": [],
   "source": [
    "X = df.iloc[:, 3:14]\n",
    "X = sm.add_constant(X).dropna()\n",
    "X.drop(columns=[\"Vap\", \"Banheiros\", \"Varanda\", \"Fundos\", \"Dependências\"], inplace=True)\n",
    "\n",
    "ind = X.index\n",
    "\n",
    "y = df.loc[ind, 'VT'] / df.loc[ind, 'Área']\n",
    "\n",
    "n = np.size(X, 0)\n",
    "k = np.size(X, 1) - 1"
   ]
  },
  {
   "cell_type": "markdown",
   "metadata": {},
   "source": [
    "### Análise Exploratória dos Dados"
   ]
  },
  {
   "cell_type": "code",
   "execution_count": 5,
   "metadata": {
    "scrolled": false
   },
   "outputs": [
    {
     "data": {
      "text/html": [
       "<div>\n",
       "<style scoped>\n",
       "    .dataframe tbody tr th:only-of-type {\n",
       "        vertical-align: middle;\n",
       "    }\n",
       "\n",
       "    .dataframe tbody tr th {\n",
       "        vertical-align: top;\n",
       "    }\n",
       "\n",
       "    .dataframe thead th {\n",
       "        text-align: right;\n",
       "    }\n",
       "</style>\n",
       "<table border=\"1\" class=\"dataframe\">\n",
       "  <thead>\n",
       "    <tr style=\"text-align: right;\">\n",
       "      <th></th>\n",
       "      <th>const</th>\n",
       "      <th>Área</th>\n",
       "      <th>Quartos</th>\n",
       "      <th>Vagas</th>\n",
       "      <th>Alto PC</th>\n",
       "      <th>Baixo PC</th>\n",
       "      <th>Condomínio</th>\n",
       "    </tr>\n",
       "  </thead>\n",
       "  <tbody>\n",
       "    <tr>\n",
       "      <th>count</th>\n",
       "      <td>40.0</td>\n",
       "      <td>40.000000</td>\n",
       "      <td>40.000000</td>\n",
       "      <td>40.000000</td>\n",
       "      <td>40.000000</td>\n",
       "      <td>40.000000</td>\n",
       "      <td>40.00000</td>\n",
       "    </tr>\n",
       "    <tr>\n",
       "      <th>mean</th>\n",
       "      <td>1.0</td>\n",
       "      <td>106.475000</td>\n",
       "      <td>2.600000</td>\n",
       "      <td>1.400000</td>\n",
       "      <td>0.250000</td>\n",
       "      <td>0.200000</td>\n",
       "      <td>1170.45000</td>\n",
       "    </tr>\n",
       "    <tr>\n",
       "      <th>std</th>\n",
       "      <td>0.0</td>\n",
       "      <td>35.142922</td>\n",
       "      <td>0.708918</td>\n",
       "      <td>0.928191</td>\n",
       "      <td>0.438529</td>\n",
       "      <td>0.405096</td>\n",
       "      <td>562.86433</td>\n",
       "    </tr>\n",
       "    <tr>\n",
       "      <th>min</th>\n",
       "      <td>1.0</td>\n",
       "      <td>57.000000</td>\n",
       "      <td>2.000000</td>\n",
       "      <td>0.000000</td>\n",
       "      <td>0.000000</td>\n",
       "      <td>0.000000</td>\n",
       "      <td>402.00000</td>\n",
       "    </tr>\n",
       "    <tr>\n",
       "      <th>25%</th>\n",
       "      <td>1.0</td>\n",
       "      <td>80.750000</td>\n",
       "      <td>2.000000</td>\n",
       "      <td>1.000000</td>\n",
       "      <td>0.000000</td>\n",
       "      <td>0.000000</td>\n",
       "      <td>875.00000</td>\n",
       "    </tr>\n",
       "    <tr>\n",
       "      <th>50%</th>\n",
       "      <td>1.0</td>\n",
       "      <td>97.500000</td>\n",
       "      <td>2.000000</td>\n",
       "      <td>1.000000</td>\n",
       "      <td>0.000000</td>\n",
       "      <td>0.000000</td>\n",
       "      <td>1072.00000</td>\n",
       "    </tr>\n",
       "    <tr>\n",
       "      <th>75%</th>\n",
       "      <td>1.0</td>\n",
       "      <td>124.000000</td>\n",
       "      <td>3.000000</td>\n",
       "      <td>2.000000</td>\n",
       "      <td>0.250000</td>\n",
       "      <td>0.000000</td>\n",
       "      <td>1432.00000</td>\n",
       "    </tr>\n",
       "    <tr>\n",
       "      <th>max</th>\n",
       "      <td>1.0</td>\n",
       "      <td>195.000000</td>\n",
       "      <td>4.000000</td>\n",
       "      <td>3.000000</td>\n",
       "      <td>1.000000</td>\n",
       "      <td>1.000000</td>\n",
       "      <td>3042.00000</td>\n",
       "    </tr>\n",
       "  </tbody>\n",
       "</table>\n",
       "</div>"
      ],
      "text/plain": [
       "       const        Área    Quartos      Vagas    Alto PC   Baixo PC  \\\n",
       "count   40.0   40.000000  40.000000  40.000000  40.000000  40.000000   \n",
       "mean     1.0  106.475000   2.600000   1.400000   0.250000   0.200000   \n",
       "std      0.0   35.142922   0.708918   0.928191   0.438529   0.405096   \n",
       "min      1.0   57.000000   2.000000   0.000000   0.000000   0.000000   \n",
       "25%      1.0   80.750000   2.000000   1.000000   0.000000   0.000000   \n",
       "50%      1.0   97.500000   2.000000   1.000000   0.000000   0.000000   \n",
       "75%      1.0  124.000000   3.000000   2.000000   0.250000   0.000000   \n",
       "max      1.0  195.000000   4.000000   3.000000   1.000000   1.000000   \n",
       "\n",
       "       Condomínio  \n",
       "count    40.00000  \n",
       "mean   1170.45000  \n",
       "std     562.86433  \n",
       "min     402.00000  \n",
       "25%     875.00000  \n",
       "50%    1072.00000  \n",
       "75%    1432.00000  \n",
       "max    3042.00000  "
      ]
     },
     "execution_count": 5,
     "metadata": {},
     "output_type": "execute_result"
    }
   ],
   "source": [
    "X.describe()"
   ]
  },
  {
   "cell_type": "code",
   "execution_count": 6,
   "metadata": {},
   "outputs": [
    {
     "data": {
      "image/png": "[encoded data removed]",
      "text/plain": [
       "<Figure size 432x288 with 1 Axes>"
      ]
     },
     "metadata": {
      "needs_background": "light"
     },
     "output_type": "display_data"
    }
   ],
   "source": [
    "plt.hist(y);\n",
    "plt.title(\"Histograma da Variável Alvo (Valor Unitário)\");\n",
    "plt.xlabel(\"Valor Unitário em R$/m²\");\n",
    "plt.ylabel(\"Frequência\");"
   ]
  },
  {
   "cell_type": "code",
   "execution_count": 7,
   "metadata": {
    "scrolled": false
   },
   "outputs": [
    {
     "data": {
      "image/png": "[encoded data removed]",
      "text/plain": [
       "<Figure size 864x288 with 3 Axes>"
      ]
     },
     "metadata": {
      "needs_background": "light"
     },
     "output_type": "display_data"
    },
    {
     "data": {
      "image/png": "[encoded data removed]",
      "text/plain": [
       "<Figure size 864x288 with 3 Axes>"
      ]
     },
     "metadata": {
      "needs_background": "light"
     },
     "output_type": "display_data"
    },
    {
     "data": {
      "image/png": "[encoded data removed]",
      "text/plain": [
       "<Figure size 864x288 with 3 Axes>"
      ]
     },
     "metadata": {
      "needs_background": "light"
     },
     "output_type": "display_data"
    },
    {
     "data": {
      "image/png": "[encoded data removed]",
      "text/plain": [
       "<Figure size 864x288 with 3 Axes>"
      ]
     },
     "metadata": {
      "needs_background": "light"
     },
     "output_type": "display_data"
    },
    {
     "data": {
      "image/png": "[encoded data removed]",
      "text/plain": [
       "<Figure size 864x288 with 3 Axes>"
      ]
     },
     "metadata": {
      "needs_background": "light"
     },
     "output_type": "display_data"
    },
    {
     "data": {
      "image/png": "[encoded data removed]",
      "text/plain": [
       "<Figure size 864x288 with 3 Axes>"
      ]
     },
     "metadata": {
      "needs_background": "light"
     },
     "output_type": "display_data"
    }
   ],
   "source": [
    "for i in range(k):\n",
    "    fig, axs = plt.subplots(1, 3, figsize=(12, 4))\n",
    "\n",
    "    axs[0].hist(X[X.columns[i+1]])\n",
    "    axs[1].scatter(X[X.columns[i+1]], y)\n",
    "    axs[2].boxplot(X[X.columns[i+1]])\n",
    "    \n",
    "    fig.suptitle(f\"Histograma, Dispersão e Boxplot da variável {X.columns[i+1]}\")\n",
    "\n",
    "    fig.subplots_adjust(left=.01, right=.99, bottom=.1, top=.9,\n",
    "                        wspace=.2, hspace=.4)"
   ]
  },
  {
   "cell_type": "markdown",
   "metadata": {},
   "source": [
    "### Dados do Imóvel Avaliando"
   ]
  },
  {
   "cell_type": "code",
   "execution_count": 8,
   "metadata": {},
   "outputs": [],
   "source": [
    "aval = [1, 100, 3, 2, 0, 0, 1340]"
   ]
  },
  {
   "cell_type": "markdown",
   "metadata": {},
   "source": [
    "### Modelo de Regressão Linear Múltipla Não Regularizado"
   ]
  },
  {
   "cell_type": "code",
   "execution_count": 9,
   "metadata": {},
   "outputs": [
    {
     "data": {
      "text/html": [
       "<table class=\"simpletable\">\n",
       "<caption>OLS Regression Results</caption>\n",
       "<tr>\n",
       "  <th>Dep. Variable:</th>            <td>y</td>        <th>  R-squared:         </th> <td>   0.665</td>\n",
       "</tr>\n",
       "<tr>\n",
       "  <th>Model:</th>                   <td>OLS</td>       <th>  Adj. R-squared:    </th> <td>   0.604</td>\n",
       "</tr>\n",
       "<tr>\n",
       "  <th>Method:</th>             <td>Least Squares</td>  <th>  F-statistic:       </th> <td>   10.91</td>\n",
       "</tr>\n",
       "<tr>\n",
       "  <th>Date:</th>             <td>Sat, 16 Jan 2021</td> <th>  Prob (F-statistic):</th> <td>1.11e-06</td>\n",
       "</tr>\n",
       "<tr>\n",
       "  <th>Time:</th>                 <td>19:33:04</td>     <th>  Log-Likelihood:    </th> <td> -342.59</td>\n",
       "</tr>\n",
       "<tr>\n",
       "  <th>No. Observations:</th>      <td>    40</td>      <th>  AIC:               </th> <td>   699.2</td>\n",
       "</tr>\n",
       "<tr>\n",
       "  <th>Df Residuals:</th>          <td>    33</td>      <th>  BIC:               </th> <td>   711.0</td>\n",
       "</tr>\n",
       "<tr>\n",
       "  <th>Df Model:</th>              <td>     6</td>      <th>                     </th>     <td> </td>   \n",
       "</tr>\n",
       "<tr>\n",
       "  <th>Covariance Type:</th>      <td>nonrobust</td>    <th>                     </th>     <td> </td>   \n",
       "</tr>\n",
       "</table>\n",
       "<table class=\"simpletable\">\n",
       "<tr>\n",
       "       <td></td>         <th>coef</th>     <th>std err</th>      <th>t</th>      <th>P>|t|</th>  <th>[0.025</th>    <th>0.975]</th>  \n",
       "</tr>\n",
       "<tr>\n",
       "  <th>const</th>      <td> 9293.4628</td> <td>  950.956</td> <td>    9.773</td> <td> 0.000</td> <td> 7358.728</td> <td> 1.12e+04</td>\n",
       "</tr>\n",
       "<tr>\n",
       "  <th>Área</th>       <td>  -69.3888</td> <td>   17.207</td> <td>   -4.033</td> <td> 0.000</td> <td> -104.397</td> <td>  -34.380</td>\n",
       "</tr>\n",
       "<tr>\n",
       "  <th>Quartos</th>    <td> 1741.2516</td> <td>  752.641</td> <td>    2.314</td> <td> 0.027</td> <td>  209.992</td> <td> 3272.511</td>\n",
       "</tr>\n",
       "<tr>\n",
       "  <th>Vagas</th>      <td>  695.3719</td> <td>  418.640</td> <td>    1.661</td> <td> 0.106</td> <td> -156.358</td> <td> 1547.102</td>\n",
       "</tr>\n",
       "<tr>\n",
       "  <th>Alto PC</th>    <td> 1720.5988</td> <td>  616.493</td> <td>    2.791</td> <td> 0.009</td> <td>  466.335</td> <td> 2974.863</td>\n",
       "</tr>\n",
       "<tr>\n",
       "  <th>Baixo PC</th>   <td>-1689.2336</td> <td>  599.272</td> <td>   -2.819</td> <td> 0.008</td> <td>-2908.462</td> <td> -470.005</td>\n",
       "</tr>\n",
       "<tr>\n",
       "  <th>Condomínio</th> <td>    1.8602</td> <td>    0.838</td> <td>    2.219</td> <td> 0.033</td> <td>    0.155</td> <td>    3.566</td>\n",
       "</tr>\n",
       "</table>\n",
       "<table class=\"simpletable\">\n",
       "<tr>\n",
       "  <th>Omnibus:</th>       <td> 7.778</td> <th>  Durbin-Watson:     </th> <td>   1.780</td>\n",
       "</tr>\n",
       "<tr>\n",
       "  <th>Prob(Omnibus):</th> <td> 0.020</td> <th>  Jarque-Bera (JB):  </th> <td>   7.819</td>\n",
       "</tr>\n",
       "<tr>\n",
       "  <th>Skew:</th>          <td>-0.636</td> <th>  Prob(JB):          </th> <td>  0.0200</td>\n",
       "</tr>\n",
       "<tr>\n",
       "  <th>Kurtosis:</th>      <td> 4.753</td> <th>  Cond. No.          </th> <td>6.55e+03</td>\n",
       "</tr>\n",
       "</table><br/><br/>Notes:<br/>[1] Standard Errors assume that the covariance matrix of the errors is correctly specified.<br/>[2] The condition number is large, 6.55e+03. This might indicate that there are<br/>strong multicollinearity or other numerical problems."
      ],
      "text/plain": [
       "<class 'statsmodels.iolib.summary.Summary'>\n",
       "\"\"\"\n",
       "                            OLS Regression Results                            \n",
       "==============================================================================\n",
       "Dep. Variable:                      y   R-squared:                       0.665\n",
       "Model:                            OLS   Adj. R-squared:                  0.604\n",
       "Method:                 Least Squares   F-statistic:                     10.91\n",
       "Date:                Sat, 16 Jan 2021   Prob (F-statistic):           1.11e-06\n",
       "Time:                        19:33:04   Log-Likelihood:                -342.59\n",
       "No. Observations:                  40   AIC:                             699.2\n",
       "Df Residuals:                      33   BIC:                             711.0\n",
       "Df Model:                           6                                         \n",
       "Covariance Type:            nonrobust                                         \n",
       "==============================================================================\n",
       "                 coef    std err          t      P>|t|      [0.025      0.975]\n",
       "------------------------------------------------------------------------------\n",
       "const       9293.4628    950.956      9.773      0.000    7358.728    1.12e+04\n",
       "Área         -69.3888     17.207     -4.033      0.000    -104.397     -34.380\n",
       "Quartos     1741.2516    752.641      2.314      0.027     209.992    3272.511\n",
       "Vagas        695.3719    418.640      1.661      0.106    -156.358    1547.102\n",
       "Alto PC     1720.5988    616.493      2.791      0.009     466.335    2974.863\n",
       "Baixo PC   -1689.2336    599.272     -2.819      0.008   -2908.462    -470.005\n",
       "Condomínio     1.8602      0.838      2.219      0.033       0.155       3.566\n",
       "==============================================================================\n",
       "Omnibus:                        7.778   Durbin-Watson:                   1.780\n",
       "Prob(Omnibus):                  0.020   Jarque-Bera (JB):                7.819\n",
       "Skew:                          -0.636   Prob(JB):                       0.0200\n",
       "Kurtosis:                       4.753   Cond. No.                     6.55e+03\n",
       "==============================================================================\n",
       "\n",
       "Notes:\n",
       "[1] Standard Errors assume that the covariance matrix of the errors is correctly specified.\n",
       "[2] The condition number is large, 6.55e+03. This might indicate that there are\n",
       "strong multicollinearity or other numerical problems.\n",
       "\"\"\""
      ]
     },
     "execution_count": 9,
     "metadata": {},
     "output_type": "execute_result"
    }
   ],
   "source": [
    "model = sm.OLS(y, X)\n",
    "results = model.fit()\n",
    "results.summary()"
   ]
  },
  {
   "cell_type": "code",
   "execution_count": 10,
   "metadata": {},
   "outputs": [
    {
     "name": "stdout",
     "output_type": "stream",
     "text": [
      "O valor do imóvel estimado pelo Modelo de Regressão Linear Múltipla não Regularizado é de R$ 1146177.03.\n"
     ]
    }
   ],
   "source": [
    "aval_VU = sum(results.params*aval)\n",
    "aval_VT = aval_VU * aval[1]\n",
    "print(f\"O valor do imóvel estimado pelo Modelo de Regressão Linear Múltipla não Regularizado é de R$ {aval_VT:.2f}.\")"
   ]
  },
  {
   "cell_type": "markdown",
   "metadata": {},
   "source": [
    "### Modelo de Regressão Linear Múltipla Regularizado (α = 10 para todas as variáveis explicativas)"
   ]
  },
  {
   "cell_type": "code",
   "execution_count": 11,
   "metadata": {},
   "outputs": [
    {
     "data": {
      "text/plain": [
       "const         8643.092188\n",
       "Área           -38.136472\n",
       "Quartos       1169.474306\n",
       "Vagas          659.122246\n",
       "Alto PC       1763.628702\n",
       "Baixo PC     -1731.667945\n",
       "Condomínio       0.870974\n",
       "dtype: float64"
      ]
     },
     "execution_count": 11,
     "metadata": {},
     "output_type": "execute_result"
    }
   ],
   "source": [
    "model = sm.OLS(y, X)\n",
    "\n",
    "results_reg = model.fit_regularized(method='elastic_net', alpha=10.0, L1_wt=1.0,\n",
    "                                start_params=None, profile_scale=False, refit=False)\n",
    "results_reg.params"
   ]
  },
  {
   "cell_type": "code",
   "execution_count": 12,
   "metadata": {},
   "outputs": [
    {
     "name": "stdout",
     "output_type": "stream",
     "text": [
      "O valor do imóvel estimado pelo Modelo de Regressão Linear Múltipla Regularizado por α=10 é de R$ 1082321.81.\n"
     ]
    }
   ],
   "source": [
    "aval_VU = np.dot(aval, results_reg.params)\n",
    "aval_VT = aval_VU * aval[1]\n",
    "print(f\"O valor do imóvel estimado pelo Modelo de Regressão Linear Múltipla Regularizado por α=10 é de R$ {aval_VT:.2f}.\")"
   ]
  },
  {
   "cell_type": "code",
   "execution_count": 13,
   "metadata": {},
   "outputs": [
    {
     "data": {
      "text/plain": [
       "0.6237098465729364"
      ]
     },
     "execution_count": 13,
     "metadata": {},
     "output_type": "execute_result"
    }
   ],
   "source": [
    "SSE = np.sum((np.dot(X, results_reg.params) - y).pow(2))\n",
    "SST = np.sum((np.mean(y) - y).pow(2))\n",
    "R2 = 1 - SSE/SST\n",
    "R2"
   ]
  },
  {
   "cell_type": "code",
   "execution_count": 14,
   "metadata": {},
   "outputs": [
    {
     "data": {
      "text/plain": [
       "0.5552934550407429"
      ]
     },
     "execution_count": 14,
     "metadata": {},
     "output_type": "execute_result"
    }
   ],
   "source": [
    "R2_Aj = 1 - (1 - R2)*((n - 1)/(n - k - 1))\n",
    "R2_Aj"
   ]
  },
  {
   "cell_type": "markdown",
   "metadata": {},
   "source": [
    "### Modelo de Regressão Linear Múltipla Regularizado (α proporcional ao P(t) de cada variável)"
   ]
  },
  {
   "cell_type": "code",
   "execution_count": 15,
   "metadata": {},
   "outputs": [],
   "source": [
    "alpha = [0, 0, 10, 30, 0, 0, 10]"
   ]
  },
  {
   "cell_type": "code",
   "execution_count": 16,
   "metadata": {},
   "outputs": [
    {
     "data": {
      "text/plain": [
       "const         8801.898697\n",
       "Área           -38.899948\n",
       "Quartos       1115.493518\n",
       "Vagas          599.961575\n",
       "Alto PC       1852.828842\n",
       "Baixo PC     -1782.580705\n",
       "Condomínio       0.992578\n",
       "dtype: float64"
      ]
     },
     "execution_count": 16,
     "metadata": {},
     "output_type": "execute_result"
    }
   ],
   "source": [
    "model = sm.OLS(y, X)\n",
    "\n",
    "results_reg = model.fit_regularized(method='elastic_net', alpha=alpha, L1_wt=1.0,\n",
    "                                start_params=None, profile_scale=False, refit=False)\n",
    "results_reg.params"
   ]
  },
  {
   "cell_type": "code",
   "execution_count": 17,
   "metadata": {},
   "outputs": [
    {
     "name": "stdout",
     "output_type": "stream",
     "text": [
      "O valor do imóvel estimado pelo Modelo de Regressão Linear Múltipla Regularizado pelo vetor α é de R$ 1078836.24.\n"
     ]
    }
   ],
   "source": [
    "aval_VU = np.dot(aval, results_reg.params)\n",
    "aval_VT = aval_VU * aval[1]\n",
    "print(f\"O valor do imóvel estimado pelo Modelo de Regressão Linear Múltipla Regularizado pelo vetor α é de R$ {aval_VT:.2f}.\")"
   ]
  },
  {
   "cell_type": "code",
   "execution_count": 18,
   "metadata": {},
   "outputs": [
    {
     "data": {
      "text/plain": [
       "0.6284833473929141"
      ]
     },
     "execution_count": 18,
     "metadata": {},
     "output_type": "execute_result"
    }
   ],
   "source": [
    "SSE = np.sum((np.dot(X, results_reg.params) - y).pow(2))\n",
    "SST = np.sum((np.mean(y) - y).pow(2))\n",
    "R2 = 1 - SSE/SST\n",
    "R2"
   ]
  },
  {
   "cell_type": "code",
   "execution_count": 19,
   "metadata": {},
   "outputs": [
    {
     "data": {
      "text/plain": [
       "0.5609348651007167"
      ]
     },
     "execution_count": 19,
     "metadata": {},
     "output_type": "execute_result"
    }
   ],
   "source": [
    "R2_Aj = 1 - (1 - R2)*((n - 1)/(n - k - 1))\n",
    "R2_Aj"
   ]
  },
  {
   "cell_type": "markdown",
   "metadata": {},
   "source": [
    "### Análise dos Modelos"
   ]
  },
  {
   "cell_type": "markdown",
   "metadata": {},
   "source": [
    "#### Para y = x0 + β1x1 + ...\n",
    "    OLS com todas as variáveis\n",
    "        Av = 1146177.03 reais\n",
    "        R² = 0.665\n",
    "        Aj = 0.604\n",
    "\n",
    "    OLS reg (α = 10) com todas as variáveis\n",
    "        Av = 1082321.81 reais\n",
    "        R² = 0.624\n",
    "        Aj = 0.555\n",
    "\n",
    "    OLS reg (vetor α) com todas as variáveis\n",
    "        Av = 1078836.24 reais\n",
    "        R² = 0.628\n",
    "        Aj = 0.561"
   ]
  }
 ],
 "metadata": {
  "kernelspec": {
   "display_name": "Python 3",
   "language": "python",
   "name": "python3"
  },
  "language_info": {
   "codemirror_mode": {
    "name": "ipython",
    "version": 3
   },
   "file_extension": ".py",
   "mimetype": "text/x-python",
   "name": "python",
   "nbconvert_exporter": "python",
   "pygments_lexer": "ipython3",
   "version": "3.8.5"
  }
 },
 "nbformat": 4,
 "nbformat_minor": 4
}

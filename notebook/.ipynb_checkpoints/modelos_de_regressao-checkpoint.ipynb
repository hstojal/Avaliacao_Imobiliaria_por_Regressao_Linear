{
 "cells": [
  {
   "cell_type": "markdown",
   "metadata": {},
   "source": [
    "### Importações"
   ]
  },
  {
   "cell_type": "code",
   "execution_count": 1,
   "metadata": {},
   "outputs": [],
   "source": [
    "import pandas as pd\n",
    "import numpy as np\n",
    "import statsmodels.api as sm\n",
    "import matplotlib.pyplot as plt\n",
    "plt.style.use('seaborn')\n",
    "%matplotlib inline"
   ]
  },
  {
   "cell_type": "markdown",
   "metadata": {},
   "source": [
    "### Carregamento dos Dados da Amostra"
   ]
  },
  {
   "cell_type": "code",
   "execution_count": 2,
   "metadata": {},
   "outputs": [],
   "source": [
    "df = pd.read_csv(\"../dados/amostra.csv\")"
   ]
  },
  {
   "cell_type": "code",
   "execution_count": 3,
   "metadata": {},
   "outputs": [
    {
     "data": {
      "text/html": [
       "<div>\n",
       "<style scoped>\n",
       "    .dataframe tbody tr th:only-of-type {\n",
       "        vertical-align: middle;\n",
       "    }\n",
       "\n",
       "    .dataframe tbody tr th {\n",
       "        vertical-align: top;\n",
       "    }\n",
       "\n",
       "    .dataframe thead th {\n",
       "        text-align: right;\n",
       "    }\n",
       "</style>\n",
       "<table border=\"1\" class=\"dataframe\">\n",
       "  <thead>\n",
       "    <tr style=\"text-align: right;\">\n",
       "      <th></th>\n",
       "      <th>Endereço</th>\n",
       "      <th>Bairro</th>\n",
       "      <th>VT</th>\n",
       "      <th>Área</th>\n",
       "      <th>Vap</th>\n",
       "      <th>Quartos</th>\n",
       "      <th>Banheiros</th>\n",
       "      <th>Vagas</th>\n",
       "      <th>Alto PC</th>\n",
       "      <th>Baixo PC</th>\n",
       "      <th>Varanda</th>\n",
       "      <th>Fundos</th>\n",
       "      <th>Dependências</th>\n",
       "      <th>Condomínio</th>\n",
       "      <th>Pavimento</th>\n",
       "      <th>VU</th>\n",
       "      <th>Fonte</th>\n",
       "      <th>Imobiliária</th>\n",
       "      <th>Atualizado</th>\n",
       "      <th>Link</th>\n",
       "    </tr>\n",
       "  </thead>\n",
       "  <tbody>\n",
       "    <tr>\n",
       "      <th>0</th>\n",
       "      <td>Rua Ererê</td>\n",
       "      <td>Cosme Velho</td>\n",
       "      <td>1000000</td>\n",
       "      <td>120</td>\n",
       "      <td>3771.38</td>\n",
       "      <td>3</td>\n",
       "      <td>3</td>\n",
       "      <td>3</td>\n",
       "      <td>0</td>\n",
       "      <td>1</td>\n",
       "      <td>1</td>\n",
       "      <td>1</td>\n",
       "      <td>1</td>\n",
       "      <td>1308</td>\n",
       "      <td>NaN</td>\n",
       "      <td>8333.333333</td>\n",
       "      <td>Zap</td>\n",
       "      <td>Kasanova</td>\n",
       "      <td>01/11/2021</td>\n",
       "      <td>https://www.zapimoveis.com.br/imovel/venda-apa...</td>\n",
       "    </tr>\n",
       "    <tr>\n",
       "      <th>1</th>\n",
       "      <td>Rua Filinto de Almeida</td>\n",
       "      <td>Cosme Velho</td>\n",
       "      <td>700000</td>\n",
       "      <td>113</td>\n",
       "      <td>3295.39</td>\n",
       "      <td>2</td>\n",
       "      <td>2</td>\n",
       "      <td>0</td>\n",
       "      <td>0</td>\n",
       "      <td>1</td>\n",
       "      <td>1</td>\n",
       "      <td>1</td>\n",
       "      <td>1</td>\n",
       "      <td>1044</td>\n",
       "      <td>1.0</td>\n",
       "      <td>6194.690265</td>\n",
       "      <td>Zap</td>\n",
       "      <td>OrlaRio</td>\n",
       "      <td>01/11/2021</td>\n",
       "      <td>https://www.zapimoveis.com.br/imovel/venda-apa...</td>\n",
       "    </tr>\n",
       "    <tr>\n",
       "      <th>2</th>\n",
       "      <td>Praça São Judas Tadeu, 6</td>\n",
       "      <td>Cosme Velho</td>\n",
       "      <td>965000</td>\n",
       "      <td>129</td>\n",
       "      <td>3771.38</td>\n",
       "      <td>3</td>\n",
       "      <td>4</td>\n",
       "      <td>2</td>\n",
       "      <td>0</td>\n",
       "      <td>1</td>\n",
       "      <td>1</td>\n",
       "      <td>1</td>\n",
       "      <td>1</td>\n",
       "      <td>1640</td>\n",
       "      <td>NaN</td>\n",
       "      <td>7480.620155</td>\n",
       "      <td>Zap</td>\n",
       "      <td>João Correa</td>\n",
       "      <td>01/11/2021</td>\n",
       "      <td>https://www.zapimoveis.com.br/imovel/venda-apa...</td>\n",
       "    </tr>\n",
       "    <tr>\n",
       "      <th>3</th>\n",
       "      <td>Rua Cosme Velho, 315</td>\n",
       "      <td>Cosme Velho</td>\n",
       "      <td>880000</td>\n",
       "      <td>87</td>\n",
       "      <td>3795.13</td>\n",
       "      <td>2</td>\n",
       "      <td>2</td>\n",
       "      <td>1</td>\n",
       "      <td>0</td>\n",
       "      <td>0</td>\n",
       "      <td>0</td>\n",
       "      <td>0</td>\n",
       "      <td>1</td>\n",
       "      <td>900</td>\n",
       "      <td>NaN</td>\n",
       "      <td>10114.942529</td>\n",
       "      <td>Zap</td>\n",
       "      <td>Calleri</td>\n",
       "      <td>NaN</td>\n",
       "      <td>https://www.zapimoveis.com.br/imovel/venda-apa...</td>\n",
       "    </tr>\n",
       "    <tr>\n",
       "      <th>4</th>\n",
       "      <td>Rua Marechal Pires Ferreira</td>\n",
       "      <td>Cosme Velho</td>\n",
       "      <td>1870000</td>\n",
       "      <td>152</td>\n",
       "      <td>3980.89</td>\n",
       "      <td>4</td>\n",
       "      <td>3</td>\n",
       "      <td>2</td>\n",
       "      <td>1</td>\n",
       "      <td>0</td>\n",
       "      <td>1</td>\n",
       "      <td>1</td>\n",
       "      <td>1</td>\n",
       "      <td>1826</td>\n",
       "      <td>NaN</td>\n",
       "      <td>12302.631579</td>\n",
       "      <td>Zap</td>\n",
       "      <td>Indik</td>\n",
       "      <td>NaN</td>\n",
       "      <td>https://www.zapimoveis.com.br/imovel/venda-apa...</td>\n",
       "    </tr>\n",
       "  </tbody>\n",
       "</table>\n",
       "</div>"
      ],
      "text/plain": [
       "                      Endereço       Bairro       VT  Área      Vap  Quartos  \\\n",
       "0                    Rua Ererê  Cosme Velho  1000000   120  3771.38        3   \n",
       "1       Rua Filinto de Almeida  Cosme Velho   700000   113  3295.39        2   \n",
       "2     Praça São Judas Tadeu, 6  Cosme Velho   965000   129  3771.38        3   \n",
       "3         Rua Cosme Velho, 315  Cosme Velho   880000    87  3795.13        2   \n",
       "4  Rua Marechal Pires Ferreira  Cosme Velho  1870000   152  3980.89        4   \n",
       "\n",
       "   Banheiros  Vagas  Alto PC  Baixo PC  Varanda  Fundos  Dependências  \\\n",
       "0          3      3        0         1        1       1             1   \n",
       "1          2      0        0         1        1       1             1   \n",
       "2          4      2        0         1        1       1             1   \n",
       "3          2      1        0         0        0       0             1   \n",
       "4          3      2        1         0        1       1             1   \n",
       "\n",
       "   Condomínio  Pavimento            VU Fonte  Imobiliária  Atualizado  \\\n",
       "0        1308        NaN   8333.333333   Zap     Kasanova  01/11/2021   \n",
       "1        1044        1.0   6194.690265   Zap      OrlaRio  01/11/2021   \n",
       "2        1640        NaN   7480.620155   Zap  João Correa  01/11/2021   \n",
       "3         900        NaN  10114.942529   Zap      Calleri         NaN   \n",
       "4        1826        NaN  12302.631579   Zap        Indik         NaN   \n",
       "\n",
       "                                                Link  \n",
       "0  https://www.zapimoveis.com.br/imovel/venda-apa...  \n",
       "1  https://www.zapimoveis.com.br/imovel/venda-apa...  \n",
       "2  https://www.zapimoveis.com.br/imovel/venda-apa...  \n",
       "3  https://www.zapimoveis.com.br/imovel/venda-apa...  \n",
       "4  https://www.zapimoveis.com.br/imovel/venda-apa...  "
      ]
     },
     "execution_count": 3,
     "metadata": {},
     "output_type": "execute_result"
    }
   ],
   "source": [
    "df.head()"
   ]
  },
  {
   "cell_type": "code",
   "execution_count": 9,
   "metadata": {},
   "outputs": [
    {
     "data": {
      "image/png": "[encoded data removed]",
      "text/plain": [
       "<Figure size 432x288 with 12 Axes>"
      ]
     },
     "metadata": {
      "needs_background": "light"
     },
     "output_type": "display_data"
    }
   ],
   "source": [
    "fig, axes = plt.subplots(2, 6)\n",
    "\n",
    "for i, ax in enumerate(axes.flatten()):\n",
    "    ax.boxplot(X[X.columns[i]])\n",
    "    ax.set_title(X.columns[i])\n",
    "\n",
    "fig.subplots_adjust(left=.01, right=.99, bottom=.1, top=.9,\n",
    "                    wspace=.4, hspace=.4)"
   ]
  },
  {
   "cell_type": "markdown",
   "metadata": {},
   "source": [
    "### Atribuição das Variáveis Independentes (X) e Dependentes (y)"
   ]
  },
  {
   "cell_type": "code",
   "execution_count": 4,
   "metadata": {},
   "outputs": [],
   "source": [
    "X = df.iloc[:, 3:14]\n",
    "X = sm.add_constant(X).dropna()\n",
    "\n",
    "ind = X.index\n",
    "\n",
    "y = df.loc[ind, 'VT'] / df.loc[ind, 'Área']"
   ]
  },
  {
   "cell_type": "code",
   "execution_count": 5,
   "metadata": {
    "scrolled": false
   },
   "outputs": [
    {
     "data": {
      "text/html": [
       "<div>\n",
       "<style scoped>\n",
       "    .dataframe tbody tr th:only-of-type {\n",
       "        vertical-align: middle;\n",
       "    }\n",
       "\n",
       "    .dataframe tbody tr th {\n",
       "        vertical-align: top;\n",
       "    }\n",
       "\n",
       "    .dataframe thead th {\n",
       "        text-align: right;\n",
       "    }\n",
       "</style>\n",
       "<table border=\"1\" class=\"dataframe\">\n",
       "  <thead>\n",
       "    <tr style=\"text-align: right;\">\n",
       "      <th></th>\n",
       "      <th>const</th>\n",
       "      <th>Área</th>\n",
       "      <th>Vap</th>\n",
       "      <th>Quartos</th>\n",
       "      <th>Banheiros</th>\n",
       "      <th>Vagas</th>\n",
       "      <th>Alto PC</th>\n",
       "      <th>Baixo PC</th>\n",
       "      <th>Varanda</th>\n",
       "      <th>Fundos</th>\n",
       "      <th>Dependências</th>\n",
       "      <th>Condomínio</th>\n",
       "    </tr>\n",
       "  </thead>\n",
       "  <tbody>\n",
       "    <tr>\n",
       "      <th>count</th>\n",
       "      <td>40.0</td>\n",
       "      <td>40.000000</td>\n",
       "      <td>40.000000</td>\n",
       "      <td>40.000000</td>\n",
       "      <td>40.00000</td>\n",
       "      <td>40.000000</td>\n",
       "      <td>40.000000</td>\n",
       "      <td>40.000000</td>\n",
       "      <td>40.000000</td>\n",
       "      <td>40.000000</td>\n",
       "      <td>40.000000</td>\n",
       "      <td>40.00000</td>\n",
       "    </tr>\n",
       "    <tr>\n",
       "      <th>mean</th>\n",
       "      <td>1.0</td>\n",
       "      <td>106.475000</td>\n",
       "      <td>3742.265250</td>\n",
       "      <td>2.600000</td>\n",
       "      <td>2.22500</td>\n",
       "      <td>1.400000</td>\n",
       "      <td>0.250000</td>\n",
       "      <td>0.200000</td>\n",
       "      <td>0.600000</td>\n",
       "      <td>0.800000</td>\n",
       "      <td>0.700000</td>\n",
       "      <td>1170.45000</td>\n",
       "    </tr>\n",
       "    <tr>\n",
       "      <th>std</th>\n",
       "      <td>0.0</td>\n",
       "      <td>35.142922</td>\n",
       "      <td>194.970066</td>\n",
       "      <td>0.708918</td>\n",
       "      <td>0.76753</td>\n",
       "      <td>0.928191</td>\n",
       "      <td>0.438529</td>\n",
       "      <td>0.405096</td>\n",
       "      <td>0.496139</td>\n",
       "      <td>0.405096</td>\n",
       "      <td>0.464095</td>\n",
       "      <td>562.86433</td>\n",
       "    </tr>\n",
       "    <tr>\n",
       "      <th>min</th>\n",
       "      <td>1.0</td>\n",
       "      <td>57.000000</td>\n",
       "      <td>3295.390000</td>\n",
       "      <td>2.000000</td>\n",
       "      <td>1.00000</td>\n",
       "      <td>0.000000</td>\n",
       "      <td>0.000000</td>\n",
       "      <td>0.000000</td>\n",
       "      <td>0.000000</td>\n",
       "      <td>0.000000</td>\n",
       "      <td>0.000000</td>\n",
       "      <td>402.00000</td>\n",
       "    </tr>\n",
       "    <tr>\n",
       "      <th>25%</th>\n",
       "      <td>1.0</td>\n",
       "      <td>80.750000</td>\n",
       "      <td>3771.380000</td>\n",
       "      <td>2.000000</td>\n",
       "      <td>2.00000</td>\n",
       "      <td>1.000000</td>\n",
       "      <td>0.000000</td>\n",
       "      <td>0.000000</td>\n",
       "      <td>0.000000</td>\n",
       "      <td>1.000000</td>\n",
       "      <td>0.000000</td>\n",
       "      <td>875.00000</td>\n",
       "    </tr>\n",
       "    <tr>\n",
       "      <th>50%</th>\n",
       "      <td>1.0</td>\n",
       "      <td>97.500000</td>\n",
       "      <td>3795.130000</td>\n",
       "      <td>2.000000</td>\n",
       "      <td>2.00000</td>\n",
       "      <td>1.000000</td>\n",
       "      <td>0.000000</td>\n",
       "      <td>0.000000</td>\n",
       "      <td>1.000000</td>\n",
       "      <td>1.000000</td>\n",
       "      <td>1.000000</td>\n",
       "      <td>1072.00000</td>\n",
       "    </tr>\n",
       "    <tr>\n",
       "      <th>75%</th>\n",
       "      <td>1.0</td>\n",
       "      <td>124.000000</td>\n",
       "      <td>3795.130000</td>\n",
       "      <td>3.000000</td>\n",
       "      <td>3.00000</td>\n",
       "      <td>2.000000</td>\n",
       "      <td>0.250000</td>\n",
       "      <td>0.000000</td>\n",
       "      <td>1.000000</td>\n",
       "      <td>1.000000</td>\n",
       "      <td>1.000000</td>\n",
       "      <td>1432.00000</td>\n",
       "    </tr>\n",
       "    <tr>\n",
       "      <th>max</th>\n",
       "      <td>1.0</td>\n",
       "      <td>195.000000</td>\n",
       "      <td>3980.890000</td>\n",
       "      <td>4.000000</td>\n",
       "      <td>4.00000</td>\n",
       "      <td>3.000000</td>\n",
       "      <td>1.000000</td>\n",
       "      <td>1.000000</td>\n",
       "      <td>1.000000</td>\n",
       "      <td>1.000000</td>\n",
       "      <td>1.000000</td>\n",
       "      <td>3042.00000</td>\n",
       "    </tr>\n",
       "  </tbody>\n",
       "</table>\n",
       "</div>"
      ],
      "text/plain": [
       "       const        Área          Vap    Quartos  Banheiros      Vagas  \\\n",
       "count   40.0   40.000000    40.000000  40.000000   40.00000  40.000000   \n",
       "mean     1.0  106.475000  3742.265250   2.600000    2.22500   1.400000   \n",
       "std      0.0   35.142922   194.970066   0.708918    0.76753   0.928191   \n",
       "min      1.0   57.000000  3295.390000   2.000000    1.00000   0.000000   \n",
       "25%      1.0   80.750000  3771.380000   2.000000    2.00000   1.000000   \n",
       "50%      1.0   97.500000  3795.130000   2.000000    2.00000   1.000000   \n",
       "75%      1.0  124.000000  3795.130000   3.000000    3.00000   2.000000   \n",
       "max      1.0  195.000000  3980.890000   4.000000    4.00000   3.000000   \n",
       "\n",
       "         Alto PC   Baixo PC    Varanda     Fundos  Dependências  Condomínio  \n",
       "count  40.000000  40.000000  40.000000  40.000000     40.000000    40.00000  \n",
       "mean    0.250000   0.200000   0.600000   0.800000      0.700000  1170.45000  \n",
       "std     0.438529   0.405096   0.496139   0.405096      0.464095   562.86433  \n",
       "min     0.000000   0.000000   0.000000   0.000000      0.000000   402.00000  \n",
       "25%     0.000000   0.000000   0.000000   1.000000      0.000000   875.00000  \n",
       "50%     0.000000   0.000000   1.000000   1.000000      1.000000  1072.00000  \n",
       "75%     0.250000   0.000000   1.000000   1.000000      1.000000  1432.00000  \n",
       "max     1.000000   1.000000   1.000000   1.000000      1.000000  3042.00000  "
      ]
     },
     "execution_count": 5,
     "metadata": {},
     "output_type": "execute_result"
    }
   ],
   "source": [
    "X.describe()"
   ]
  },
  {
   "cell_type": "markdown",
   "metadata": {},
   "source": [
    "### Dados do Imóvel Avaliando"
   ]
  },
  {
   "cell_type": "code",
   "execution_count": null,
   "metadata": {},
   "outputs": [],
   "source": [
    "aval = [1, 100, 3795.13, 3, 2, 2, 0, 0, 1, 1, 1, 1340]"
   ]
  },
  {
   "cell_type": "markdown",
   "metadata": {},
   "source": [
    "### Modelo de Regressão Linear Múltipla Não Regularizado"
   ]
  },
  {
   "cell_type": "code",
   "execution_count": 6,
   "metadata": {},
   "outputs": [
    {
     "data": {
      "text/html": [
       "<table class=\"simpletable\">\n",
       "<caption>OLS Regression Results</caption>\n",
       "<tr>\n",
       "  <th>Dep. Variable:</th>            <td>y</td>        <th>  R-squared:         </th> <td>   0.687</td>\n",
       "</tr>\n",
       "<tr>\n",
       "  <th>Model:</th>                   <td>OLS</td>       <th>  Adj. R-squared:    </th> <td>   0.564</td>\n",
       "</tr>\n",
       "<tr>\n",
       "  <th>Method:</th>             <td>Least Squares</td>  <th>  F-statistic:       </th> <td>   5.585</td>\n",
       "</tr>\n",
       "<tr>\n",
       "  <th>Date:</th>             <td>Fri, 15 Jan 2021</td> <th>  Prob (F-statistic):</th> <td>0.000112</td>\n",
       "</tr>\n",
       "<tr>\n",
       "  <th>Time:</th>                 <td>16:18:51</td>     <th>  Log-Likelihood:    </th> <td> -341.23</td>\n",
       "</tr>\n",
       "<tr>\n",
       "  <th>No. Observations:</th>      <td>    40</td>      <th>  AIC:               </th> <td>   706.5</td>\n",
       "</tr>\n",
       "<tr>\n",
       "  <th>Df Residuals:</th>          <td>    28</td>      <th>  BIC:               </th> <td>   726.7</td>\n",
       "</tr>\n",
       "<tr>\n",
       "  <th>Df Model:</th>              <td>    11</td>      <th>                     </th>     <td> </td>   \n",
       "</tr>\n",
       "<tr>\n",
       "  <th>Covariance Type:</th>      <td>nonrobust</td>    <th>                     </th>     <td> </td>   \n",
       "</tr>\n",
       "</table>\n",
       "<table class=\"simpletable\">\n",
       "<tr>\n",
       "        <td></td>          <th>coef</th>     <th>std err</th>      <th>t</th>      <th>P>|t|</th>  <th>[0.025</th>    <th>0.975]</th>  \n",
       "</tr>\n",
       "<tr>\n",
       "  <th>const</th>        <td> 8159.5739</td> <td> 6894.359</td> <td>    1.184</td> <td> 0.247</td> <td>-5962.881</td> <td> 2.23e+04</td>\n",
       "</tr>\n",
       "<tr>\n",
       "  <th>Área</th>         <td>  -67.2940</td> <td>   18.823</td> <td>   -3.575</td> <td> 0.001</td> <td> -105.850</td> <td>  -28.738</td>\n",
       "</tr>\n",
       "<tr>\n",
       "  <th>Vap</th>          <td>    0.4746</td> <td>    1.899</td> <td>    0.250</td> <td> 0.805</td> <td>   -3.416</td> <td>    4.365</td>\n",
       "</tr>\n",
       "<tr>\n",
       "  <th>Quartos</th>      <td> 1445.5949</td> <td>  956.240</td> <td>    1.512</td> <td> 0.142</td> <td> -513.174</td> <td> 3404.364</td>\n",
       "</tr>\n",
       "<tr>\n",
       "  <th>Banheiros</th>    <td>  238.2090</td> <td>  519.062</td> <td>    0.459</td> <td> 0.650</td> <td> -825.041</td> <td> 1301.459</td>\n",
       "</tr>\n",
       "<tr>\n",
       "  <th>Vagas</th>        <td>  525.2464</td> <td>  529.898</td> <td>    0.991</td> <td> 0.330</td> <td> -560.201</td> <td> 1610.694</td>\n",
       "</tr>\n",
       "<tr>\n",
       "  <th>Alto PC</th>      <td> 1821.5949</td> <td>  717.857</td> <td>    2.538</td> <td> 0.017</td> <td>  351.131</td> <td> 3292.059</td>\n",
       "</tr>\n",
       "<tr>\n",
       "  <th>Baixo PC</th>     <td>-1622.9112</td> <td>  708.091</td> <td>   -2.292</td> <td> 0.030</td> <td>-3073.370</td> <td> -172.453</td>\n",
       "</tr>\n",
       "<tr>\n",
       "  <th>Varanda</th>      <td>  607.9504</td> <td>  782.704</td> <td>    0.777</td> <td> 0.444</td> <td> -995.347</td> <td> 2211.247</td>\n",
       "</tr>\n",
       "<tr>\n",
       "  <th>Fundos</th>       <td> -704.2597</td> <td>  702.000</td> <td>   -1.003</td> <td> 0.324</td> <td>-2142.241</td> <td>  733.722</td>\n",
       "</tr>\n",
       "<tr>\n",
       "  <th>Dependências</th> <td>  308.6252</td> <td>  602.470</td> <td>    0.512</td> <td> 0.612</td> <td> -925.479</td> <td> 1542.730</td>\n",
       "</tr>\n",
       "<tr>\n",
       "  <th>Condomínio</th>   <td>    1.4806</td> <td>    0.982</td> <td>    1.508</td> <td> 0.143</td> <td>   -0.531</td> <td>    3.492</td>\n",
       "</tr>\n",
       "</table>\n",
       "<table class=\"simpletable\">\n",
       "<tr>\n",
       "  <th>Omnibus:</th>       <td>12.729</td> <th>  Durbin-Watson:     </th> <td>   1.929</td>\n",
       "</tr>\n",
       "<tr>\n",
       "  <th>Prob(Omnibus):</th> <td> 0.002</td> <th>  Jarque-Bera (JB):  </th> <td>  19.940</td>\n",
       "</tr>\n",
       "<tr>\n",
       "  <th>Skew:</th>          <td>-0.797</td> <th>  Prob(JB):          </th> <td>4.68e-05</td>\n",
       "</tr>\n",
       "<tr>\n",
       "  <th>Kurtosis:</th>      <td> 6.070</td> <th>  Cond. No.          </th> <td>1.17e+05</td>\n",
       "</tr>\n",
       "</table><br/><br/>Notes:<br/>[1] Standard Errors assume that the covariance matrix of the errors is correctly specified.<br/>[2] The condition number is large, 1.17e+05. This might indicate that there are<br/>strong multicollinearity or other numerical problems."
      ],
      "text/plain": [
       "<class 'statsmodels.iolib.summary.Summary'>\n",
       "\"\"\"\n",
       "                            OLS Regression Results                            \n",
       "==============================================================================\n",
       "Dep. Variable:                      y   R-squared:                       0.687\n",
       "Model:                            OLS   Adj. R-squared:                  0.564\n",
       "Method:                 Least Squares   F-statistic:                     5.585\n",
       "Date:                Fri, 15 Jan 2021   Prob (F-statistic):           0.000112\n",
       "Time:                        16:18:51   Log-Likelihood:                -341.23\n",
       "No. Observations:                  40   AIC:                             706.5\n",
       "Df Residuals:                      28   BIC:                             726.7\n",
       "Df Model:                          11                                         \n",
       "Covariance Type:            nonrobust                                         \n",
       "================================================================================\n",
       "                   coef    std err          t      P>|t|      [0.025      0.975]\n",
       "--------------------------------------------------------------------------------\n",
       "const         8159.5739   6894.359      1.184      0.247   -5962.881    2.23e+04\n",
       "Área           -67.2940     18.823     -3.575      0.001    -105.850     -28.738\n",
       "Vap              0.4746      1.899      0.250      0.805      -3.416       4.365\n",
       "Quartos       1445.5949    956.240      1.512      0.142    -513.174    3404.364\n",
       "Banheiros      238.2090    519.062      0.459      0.650    -825.041    1301.459\n",
       "Vagas          525.2464    529.898      0.991      0.330    -560.201    1610.694\n",
       "Alto PC       1821.5949    717.857      2.538      0.017     351.131    3292.059\n",
       "Baixo PC     -1622.9112    708.091     -2.292      0.030   -3073.370    -172.453\n",
       "Varanda        607.9504    782.704      0.777      0.444    -995.347    2211.247\n",
       "Fundos        -704.2597    702.000     -1.003      0.324   -2142.241     733.722\n",
       "Dependências   308.6252    602.470      0.512      0.612    -925.479    1542.730\n",
       "Condomínio       1.4806      0.982      1.508      0.143      -0.531       3.492\n",
       "==============================================================================\n",
       "Omnibus:                       12.729   Durbin-Watson:                   1.929\n",
       "Prob(Omnibus):                  0.002   Jarque-Bera (JB):               19.940\n",
       "Skew:                          -0.797   Prob(JB):                     4.68e-05\n",
       "Kurtosis:                       6.070   Cond. No.                     1.17e+05\n",
       "==============================================================================\n",
       "\n",
       "Notes:\n",
       "[1] Standard Errors assume that the covariance matrix of the errors is correctly specified.\n",
       "[2] The condition number is large, 1.17e+05. This might indicate that there are\n",
       "strong multicollinearity or other numerical problems.\n",
       "\"\"\""
      ]
     },
     "execution_count": 6,
     "metadata": {},
     "output_type": "execute_result"
    }
   ],
   "source": [
    "model = sm.OLS(y, X)\n",
    "results = model.fit()\n",
    "results.summary()"
   ]
  },
  {
   "cell_type": "code",
   "execution_count": 25,
   "metadata": {},
   "outputs": [
    {
     "name": "stdout",
     "output_type": "stream",
     "text": [
      "O valor do imóvel estimado pelo Modelo de Regressão Linear Múltipla não Regularizado é de R$ 1129140.39.\n"
     ]
    }
   ],
   "source": [
    "aval_VU = sum(results.params*aval)\n",
    "aval_VT = aval_VU * aval[1]\n",
    "print(f\"O valor do imóvel estimado pelo Modelo de Regressão Linear Múltipla não Regularizado é de R$ {aval_VT:.2f}.\")"
   ]
  },
  {
   "cell_type": "markdown",
   "metadata": {},
   "source": [
    "### Modelo de Regressão Linear Múltipla Regularizado (α = 10 para todas as variáveis explicativas)"
   ]
  },
  {
   "cell_type": "code",
   "execution_count": 27,
   "metadata": {},
   "outputs": [
    {
     "data": {
      "text/plain": [
       "array([ -0.77822304, -34.84039248,   2.80380837,  33.00941306,\n",
       "         3.96956091,  22.27361039,  44.7063619 , -35.48288047,\n",
       "        29.04903523,   1.82019052,   9.69228024,   2.34581903])"
      ]
     },
     "execution_count": 27,
     "metadata": {},
     "output_type": "execute_result"
    }
   ],
   "source": [
    "model = sm.OLS(y, X)\n",
    "\n",
    "res_reg = model.fit_regularized(method='elastic_net', alpha=10.0, L1_wt=0,\n",
    "                                start_params=None, profile_scale=False, refit=False)\n",
    "res_reg.params"
   ]
  },
  {
   "cell_type": "code",
   "execution_count": 26,
   "metadata": {},
   "outputs": [
    {
     "name": "stdout",
     "output_type": "stream",
     "text": [
      "O valor do imóvel estimado pelo Modelo de Regressão Linear Múltipla Regularizado por α=10 é de R$ 1049147.34.\n"
     ]
    }
   ],
   "source": [
    "aval_VU = sum(res_reg.params*aval)\n",
    "aval_VT = aval_VU * aval[1]\n",
    "print(f\"O valor do imóvel estimado pelo Modelo de Regressão Linear Múltipla Regularizado por α=10 é de R$ {aval_VT:.2f}.\")"
   ]
  },
  {
   "cell_type": "code",
   "execution_count": 28,
   "metadata": {},
   "outputs": [
    {
     "data": {
      "text/plain": [
       "0.25445911986672"
      ]
     },
     "execution_count": 28,
     "metadata": {},
     "output_type": "execute_result"
    }
   ],
   "source": [
    "SSE = np.sum((np.sum(res_reg.params*X, axis=1) - y).pow(2))\n",
    "SST = np.sum((np.mean(y) - y).pow(2))\n",
    "R2 = 1 - SSE/SST\n",
    "R2"
   ]
  },
  {
   "cell_type": "code",
   "execution_count": 29,
   "metadata": {},
   "outputs": [
    {
     "data": {
      "text/plain": [
       "-0.03843194018563989"
      ]
     },
     "execution_count": 29,
     "metadata": {},
     "output_type": "execute_result"
    }
   ],
   "source": [
    "n = np.size(X, 0)\n",
    "k = np.size(X, 1) - 1\n",
    "R2_Aj = 1 - (1 - R2)*((n - 1)/(n - k - 1))\n",
    "R2_Aj"
   ]
  },
  {
   "cell_type": "markdown",
   "metadata": {},
   "source": [
    "### Modelo de Regressão Linear Múltipla Regularizado (α proporcional ao P(t) de cada variável)"
   ]
  },
  {
   "cell_type": "code",
   "execution_count": 50,
   "metadata": {},
   "outputs": [],
   "source": [
    "alpha = [0, 0, 100, 10, 30, 30, 0, 0, 30, 30, 30, 10]"
   ]
  },
  {
   "cell_type": "code",
   "execution_count": 51,
   "metadata": {},
   "outputs": [
    {
     "data": {
      "text/plain": [
       "array([ 8.35827172e+03, -3.77887566e+01,  5.34592219e-01,  1.55921616e+01,\n",
       "        3.75410687e+00,  5.87690585e+00,  2.45745945e+03, -1.71684786e+03,\n",
       "        5.37243980e+00, -2.19928067e+00,  9.20405861e-01,  2.57177472e+00])"
      ]
     },
     "execution_count": 51,
     "metadata": {},
     "output_type": "execute_result"
    }
   ],
   "source": [
    "model = sm.OLS(y, X)\n",
    "\n",
    "res_reg = model.fit_regularized(method='elastic_net', alpha=alpha, L1_wt=0,\n",
    "                                start_params=None, profile_scale=False, refit=False)\n",
    "res_reg.params"
   ]
  },
  {
   "cell_type": "code",
   "execution_count": 52,
   "metadata": {},
   "outputs": [
    {
     "name": "stdout",
     "output_type": "stream",
     "text": [
      "O valor do imóvel estimado pelo Modelo de Regressão Linear Múltipla Regularizado pelo vetor α é de R$ 1012455.32.\n"
     ]
    }
   ],
   "source": [
    "aval_VU = sum(res_reg.params*aval)\n",
    "aval_VT = aval_VU * aval[1]\n",
    "print(f\"O valor do imóvel estimado pelo Modelo de Regressão Linear Múltipla Regularizado pelo vetor α é de R$ {aval_VT:.2f}.\")"
   ]
  },
  {
   "cell_type": "code",
   "execution_count": 53,
   "metadata": {},
   "outputs": [
    {
     "data": {
      "text/plain": [
       "0.5843103727546004"
      ]
     },
     "execution_count": 53,
     "metadata": {},
     "output_type": "execute_result"
    }
   ],
   "source": [
    "SSE = np.sum((np.sum(res_reg.params*X, axis=1) - y).pow(2))\n",
    "SST = np.sum((np.mean(y) - y).pow(2))\n",
    "R2 = 1 - SSE/SST\n",
    "R2"
   ]
  },
  {
   "cell_type": "code",
   "execution_count": 54,
   "metadata": {},
   "outputs": [
    {
     "data": {
      "text/plain": [
       "0.42100373347962206"
      ]
     },
     "execution_count": 54,
     "metadata": {},
     "output_type": "execute_result"
    }
   ],
   "source": [
    "n = np.size(X, 0)\n",
    "k = np.size(X, 1) - 1\n",
    "R2_Aj = 1 - (1 - R2)*((n - 1)/(n - k - 1))\n",
    "R2_Aj"
   ]
  },
  {
   "cell_type": "markdown",
   "metadata": {},
   "source": [
    "### Análise dos Modelos"
   ]
  },
  {
   "cell_type": "raw",
   "metadata": {},
   "source": [
    "OLS com todas as variáveis\n",
    "    Av = 1129140.39 reais\n",
    "    R² = 0.687\n",
    "    Aj = 0.564\n",
    "    \n",
    "OLS reg (α = 10) com todas as variáveis\n",
    "    Av = 1049147.34 reais\n",
    "    R² = 0.254\n",
    "    Aj = -0.038\n",
    "    \n",
    "OLS reg (vetor α) com todas as variáveis\n",
    "    Av = 1012145.75 reais\n",
    "    R² = 0.584\n",
    "    Aj = 0.421"
   ]
  }
 ],
 "metadata": {
  "kernelspec": {
   "display_name": "Python 3",
   "language": "python",
   "name": "python3"
  },
  "language_info": {
   "codemirror_mode": {
    "name": "ipython",
    "version": 3
   },
   "file_extension": ".py",
   "mimetype": "text/x-python",
   "name": "python",
   "nbconvert_exporter": "python",
   "pygments_lexer": "ipython3",
   "version": "3.8.5"
  }
 },
 "nbformat": 4,
 "nbformat_minor": 4
}

{
 "cells": [
  {
   "cell_type": "markdown",
   "metadata": {},
   "source": [
    "# Laudo de Availação Imobiliária"
   ]
  },
  {
   "cell_type": "markdown",
   "metadata": {},
   "source": [
    "O presente laudo foi elaborado com o objetivo de compor um portfólio pessoal de projetos e seguirá a estrutura proposta pelo item 10.1 da NBR 14.653-1, parte 1 da norma técnica brasileira de avaliação de bens:"
   ]
  },
  {
   "cell_type": "markdown",
   "metadata": {},
   "source": [
    "### 10.1 Requisitos mínimos"
   ]
  },
  {
   "cell_type": "markdown",
   "metadata": {},
   "source": [
    "O laudo de avaliação deverá conter no mínimo as informações abaixo relacionadas:"
   ]
  },
  {
   "cell_type": "markdown",
   "metadata": {},
   "source": [
    "a) identificação da pessoa física ou jurídica e/ou seu representante legal que tenha solicitado o trabalho;"
   ]
  },
  {
   "cell_type": "markdown",
   "metadata": {},
   "source": [
    "b) objetivo da avaliação;"
   ]
  },
  {
   "cell_type": "markdown",
   "metadata": {},
   "source": [
    "c) identificação e caracterização do bem avaliando;"
   ]
  },
  {
   "cell_type": "markdown",
   "metadata": {},
   "source": [
    "d) indicação do(s) método(s) utilizado(s), com justificativa da escolha;"
   ]
  },
  {
   "cell_type": "markdown",
   "metadata": {},
   "source": [
    "e) especificação da avaliação;"
   ]
  },
  {
   "cell_type": "markdown",
   "metadata": {},
   "source": [
    "f) resultado da avaliação e sua data de referência;"
   ]
  },
  {
   "cell_type": "markdown",
   "metadata": {},
   "source": [
    "g) qualificação legal completa e assinatura do(s) profissional(is) responsável(is) pela avaliação;"
   ]
  },
  {
   "cell_type": "markdown",
   "metadata": {},
   "source": [
    "h) local e data do laudo;"
   ]
  },
  {
   "cell_type": "markdown",
   "metadata": {},
   "source": [
    "i) outras exigências previstas nas demais partes da NBR 14653.10.2 Modalidades"
   ]
  },
  {
   "cell_type": "markdown",
   "metadata": {},
   "source": [
    "#### a) identificação da pessoa física ou jurídica e/ou seu representante legal que tenha solicitado o trabalho;"
   ]
  },
  {
   "cell_type": "markdown",
   "metadata": {},
   "source": [
    "O presente laudo foi solicitado por Flavio Tojal, proprietário do imóvel avaliando."
   ]
  },
  {
   "cell_type": "code",
   "execution_count": null,
   "metadata": {},
   "outputs": [],
   "source": []
  },
  {
   "cell_type": "markdown",
   "metadata": {},
   "source": [
    "Imports"
   ]
  },
  {
   "cell_type": "code",
   "execution_count": null,
   "metadata": {},
   "outputs": [],
   "source": [
    "import pandas as pd"
   ]
  },
  {
   "cell_type": "code",
   "execution_count": null,
   "metadata": {},
   "outputs": [],
   "source": []
  }
 ],
 "metadata": {
  "kernelspec": {
   "display_name": "Python 3",
   "language": "python",
   "name": "python3"
  },
  "language_info": {
   "codemirror_mode": {
    "name": "ipython",
    "version": 3
   },
   "file_extension": ".py",
   "mimetype": "text/x-python",
   "name": "python",
   "nbconvert_exporter": "python",
   "pygments_lexer": "ipython3",
   "version": "3.8.5"
  }
 },
 "nbformat": 4,
 "nbformat_minor": 4
}

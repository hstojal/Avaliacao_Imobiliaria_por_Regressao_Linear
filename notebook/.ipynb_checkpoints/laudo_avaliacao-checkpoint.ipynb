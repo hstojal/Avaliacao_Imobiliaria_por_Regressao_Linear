{
 "cells": [
  {
   "cell_type": "markdown",
   "metadata": {},
   "source": [
    "# Laudo de Availação Imobiliária"
   ]
  },
  {
   "cell_type": "markdown",
   "metadata": {},
   "source": [
    "O presente laudo foi elaborado com o objetivo de compor um portfólio pessoal de projetos e seguirá a estrutura proposta pelo item 10.1 da NBR 14653-1, parte 1 da norma técnica brasileira de avaliação de bens:"
   ]
  },
  {
   "cell_type": "markdown",
   "metadata": {},
   "source": [
    "### 10.1 Requisitos mínimos"
   ]
  },
  {
   "cell_type": "markdown",
   "metadata": {},
   "source": [
    "O laudo de avaliação deverá conter no mínimo as informações abaixo relacionadas:\n",
    "\n",
    "    a) identificação da pessoa física ou jurídica e/ou seu representante legal que tenha solicitado o trabalho;\n",
    "    b) objetivo da avaliação;\n",
    "    c) identificação e caracterização do bem avaliando;\n",
    "    d) indicação do(s) método(s) utilizado(s), com justificativa da escolha;\n",
    "    e) especificação da avaliação;\n",
    "    f) resultado da avaliação e sua data de referência;\n",
    "    g) qualificação legal completa e assinatura do(s) profissional(is) responsável(is) pela avaliação;\n",
    "    h) local e data do laudo;\n",
    "    i) outras exigências previstas nas demais partes da NBR 14653."
   ]
  },
  {
   "cell_type": "markdown",
   "metadata": {},
   "source": [
    "#### a) identificação da pessoa física ou jurídica e/ou seu representante legal que tenha solicitado o trabalho;\n",
    "O presente laudo não foi solicitado pelo proprietário do imóvel, mas sim proposto por mim como um projeto fictício de aplicação de conhecimentos de avaliação imobiliária e estatística inferencial."
   ]
  },
  {
   "cell_type": "markdown",
   "metadata": {},
   "source": [
    "#### b) objetivo da avaliação;\n",
    "O objetivo dessa avaliação é inferir o valor de mercado do imóvel avaliando, simulando um cenário de intenção de venda."
   ]
  },
  {
   "cell_type": "markdown",
   "metadata": {},
   "source": [
    "#### c) identificação e caracterização do bem avaliando;\n",
    "Mediante vistoria e conforme disposto no item 7.3 da NBR 14653-2, foi feita a Caracterização da Região, do Terreno e das Edificações e benfeitorias do imóvel avaliando:"
   ]
  },
  {
   "cell_type": "markdown",
   "metadata": {},
   "source": [
    "###### 7.3.1 Caracterização da Região\n",
    "→ endereço: Rua Cosme Velho, 415 - Cosme Velho, Rio de Janeiro - RJ,22241-125 - Brasil;\n",
    "\n",
    "→ aspectos gerais: Cosme Velho é um bairro pequeno da zona sul do munpicípio do Rio de Janeiro, área nobre da cidade e residência de parte significativa da elite econômica e cultural da cidade. Tem limite com o bairro de Laranjeiras, de aspectos bastante semelhantes e que abriga o governador e a sede do Governo do Estado do Rio de Janeiro. É uma área predominantemente residencial e com um importante ponto turístico, o Trem do Morro do Corcovado;\n",
    "\n",
    "→ aspectos físicos: o imóvel é cercado de morro e vegetação, mas a edificação em si não se encontra em elevação relativa às vias públicas do entorno;\n",
    "\n",
    "→ localização: assim como o bairro vizinho Laranjeiras, trata-se de uma área residencial, abastecida de pré-escolas e colégios de ensino fundamental e médio, e com proximidade a outras importantes áreas para seus residentes: a zona norte, por meio do Túnel Santa Bárbara, o centro, região econômico-administrativa, a Lagoa e orla da zona sul, por meio do acesso ao Túnel Rebouças, o Aterro do Flamengo e toda atividade de lazer que todo esse entorno engloba;\n",
    "\n",
    "→ uso e ocupação do solo: o imóvel está localizado na Macrozona de Ocupação Controlada, segundo o Plano Diretor do Município do Rio de Janeiro (LC111/2011), e na Zona Residencial 3, limite com ZR1, segundo Regulamento de Zoneamento do Município do Rio de Janeiro (Decreto 322/1976), o que sugere uma tendência do imóvel, da edificação e de seu entorno a não sofrerem com drásticas modificações do cenário urbano;\n",
    "\n",
    "→ infra-estrutura urbana: o imóvel é atendido por bom sistema viário, transporte coletivo, coleta de resíduos sólidos, água potável, energia elétrica, telefone, redes de cabeamento para transmissão de dados, comunicação e televisão, esgotamento sanitário, águas pluviais e gás canalizado;\n",
    "\n",
    "→ atividades existentes: o comércio local é composto principalmente por pequenos varejos, mercados, farmácias e bares e restaurantes voltados ao consumo dos residentes do bairro e mediações. Não há indústria na região, porém o local é plenamente atendido por importantes serviços da cidade como o serviço de transporte particular e de entrega de restaurantes em um amplo raio;\n",
    "\n",
    "→ equipamentos comunitários: o local do imóvel conta com segurança por meio de policiamento da região e da política Segurança Presente. No campo da educação, conta com um número elevado de pré-escolas e colégios de ensino fundamental e médio privados e dois colégios públicos considerando o bairro Cosme Velho e o bairro vizinho Laranjeiras. Em termos de saúde, há múltiplas clínicas e hospitais no mesmo raio de 2 km que comporta esses bairros, havendo nesse conjunto um hospital público. No que tange à cultura e ao lazer, há nas proximidades espaços culturais como a Casa Roberto Marinho, a Casa das Artes de Laranjeiras (CAL), o Oi Futuro próximo ao Largo do Machado, o Palácio do Cate, espaços de cinema como o Rio Filme e o São Luiz, também pelo Largo do Machado. Há diversas praças nas proximidades do imóvel, a São Judas Tadeu ao lado do imóvel, há o Parque Guinle em Laranjeiras e a aproximadamente 2,5 km, há o Aterro do Flamengo."
   ]
  },
  {
   "cell_type": "markdown",
   "metadata": {},
   "source": [
    "###### 7.3.2 Caracterização do Terreno\n",
    "→ localização: situação na região e na via pública, com indicação de limites e confrontações definidas de acordo com a posição do observador, a qual deve ser obrigatoriamente explicitada;\n",
    "\n",
    "→ utilização atual e vocação, em confronto com a legislação em vigor;\n",
    "\n",
    "→ aspectos físicos: dimensões, forma, topografia, superfície, solo;\n",
    "\n",
    "→ infra-estrutura urbana disponível;\n",
    "\n",
    "→ restrições físicas e legais ao aproveitamento;\n",
    "\n",
    "→ sub ou superaproveitamento."
   ]
  },
  {
   "cell_type": "markdown",
   "metadata": {},
   "source": [
    "###### 7.3.3 Caracterização das Edificações e benfeitorias\n",
    "→ aspectos construtivos, qualitativos, quantitativos e tecnológicos, comparados com a documentação disponível;\n",
    " \n",
    "→ aspectos arquitetônicos, paisagísticos e funcionais, inclusive conforto ambiental;\n",
    "\n",
    "→ adequação da edificação em relação aos usos recomendáveis para a região;\n",
    "\n",
    "→ condições de ocupação;\n",
    "\n",
    "→ patologias aparentes como anomalias, avarias, danos construtivos e outras, conforme definidas na ABNT\n",
    "NBR 13752 que possam influenciar de forma significativa a variação dos preços relativos dos elementos\n",
    "amostrais."
   ]
  },
  {
   "cell_type": "markdown",
   "metadata": {},
   "source": [
    "#### d) indicação do(s) método(s) utilizado(s), com justificativa da escolha;\n",
    "Foi utilizado o Método comparativo direto de dados de mercado, conforme sugere o item 8.1.1 da NBR 14653-2. Foi empregado um modelo de regressão linear múltipla para obtenção dos parâmetros das variáveis explicativas (ou independentes)."
   ]
  },
  {
   "cell_type": "markdown",
   "metadata": {},
   "source": [
    "#### e) especificação da avaliação;"
   ]
  },
  {
   "cell_type": "markdown",
   "metadata": {},
   "source": [
    "A avaliação foi elaborada por meio da linguagem de programação Python 3 e com o auxílio de bibliotecas de manipulação de dados (pandas) e de exploração de dados e modelagem e testagem estatística (statsmodels)"
   ]
  },
  {
   "cell_type": "code",
   "execution_count": null,
   "metadata": {},
   "outputs": [],
   "source": [
    "import pandas as pd\n",
    "import statsmodels.api as sm"
   ]
  },
  {
   "cell_type": "markdown",
   "metadata": {},
   "source": [
    "#### f) resultado da avaliação e sua data de referência;"
   ]
  },
  {
   "cell_type": "markdown",
   "metadata": {},
   "source": [
    "#### g) qualificação legal completa e assinatura do(s) profissional(is) responsável(is) pela avaliação;\n",
    "    Avaliador: Henrique de Sá Tojal;\n",
    "    Graduação: Engenharia Civil pela PUC-Rio;\n",
    "    MBA:       Data Science e Analytics pela USP (cursando). "
   ]
  },
  {
   "cell_type": "markdown",
   "metadata": {},
   "source": [
    "#### h) local e data do laudo;"
   ]
  },
  {
   "cell_type": "markdown",
   "metadata": {},
   "source": [
    "#### i) outras exigências previstas nas demais partes da NBR 14653."
   ]
  }
 ],
 "metadata": {
  "kernelspec": {
   "display_name": "Python 3",
   "language": "python",
   "name": "python3"
  },
  "language_info": {
   "codemirror_mode": {
    "name": "ipython",
    "version": 3
   },
   "file_extension": ".py",
   "mimetype": "text/x-python",
   "name": "python",
   "nbconvert_exporter": "python",
   "pygments_lexer": "ipython3",
   "version": "3.8.5"
  }
 },
 "nbformat": 4,
 "nbformat_minor": 4
}
